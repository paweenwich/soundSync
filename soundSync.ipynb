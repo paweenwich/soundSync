{
 "cells": [
  {
   "cell_type": "code",
   "execution_count": 1,
   "metadata": {},
   "outputs": [
    {
     "name": "stderr",
     "output_type": "stream",
     "text": [
      "c:\\Users\\henta\\Anaconda3\\envs\\python38\\lib\\site-packages\\librosa\\util\\decorators.py:9: NumbaDeprecationWarning: \u001b[1mAn import was requested from a module that has moved location.\n",
      "Import requested from: 'numba.decorators', please update to use 'numba.core.decorators' or pin to Numba version 0.48.0. This alias will not be present in Numba version 0.50.0.\u001b[0m\n",
      "  from numba.decorators import jit as optional_jit\n",
      "c:\\Users\\henta\\Anaconda3\\envs\\python38\\lib\\site-packages\\librosa\\util\\decorators.py:9: NumbaDeprecationWarning: \u001b[1mAn import was requested from a module that has moved location.\n",
      "Import of 'jit' requested from: 'numba.decorators', please update to use 'numba.core.decorators' or pin to Numba version 0.48.0. This alias will not be present in Numba version 0.50.0.\u001b[0m\n",
      "  from numba.decorators import jit as optional_jit\n"
     ]
    }
   ],
   "source": [
    "#import pyaudio\n",
    "import numpy as np\n",
    "# import wave\n",
    "#import moviepy.editor as mp\n",
    "import librosa\n",
    "from scipy import signal\n",
    "import subprocess"
   ]
  },
  {
   "cell_type": "code",
   "execution_count": 47,
   "metadata": {},
   "outputs": [
    {
     "name": "stdout",
     "output_type": "stream",
     "text": [
      "18 100\n"
     ]
    }
   ],
   "source": [
    "def findOffset(f1,f2):\n",
    "    margin = 1\n",
    "    y1, sr1 = librosa.load(f1,duration=5)\n",
    "    y2, sr2 = librosa.load(f2,duration=20)\n",
    "    c = signal.correlate(y2, y1[sr2*margin:sr2*(margin+2)], mode='valid', method='fft')\n",
    "    peak = np.argmax(c)\n",
    "    offset = round((peak / sr2) - margin, 2)\n",
    "    # fig, ax = plt.subplots()\n",
    "    # ax.plot(c)\n",
    "    return offset\n",
    "\n",
    "def doEP(EP,load=True,offset=None):\n",
    "\n",
    "    soundPath = f\"D:/Davinci/daVinci/lambda/nodejs/SeriesMy/EP.{EP}.mp4\"\n",
    "    videoPath = \"E:/[ 不太灵免费公益影视站 www.butailing.com ]星落凝成糖[全40集][中文字幕].The.Starry.Love.2023.WEB-DL.2160p.H265.AAC-Xiaomi/The.Starry.Love.2023.E{:02d}.WEB-DL.2160p.H265.AAC-Xiaomi.mp4\".format(EP)\n",
    "    outPath = \"E:/staryLove/EP.{:02d}.mp4\".format(EP)\n",
    "    if(offset==None):\n",
    "        offset = findOffset(soundPath,videoPath)\n",
    "    print(EP,offset)\n",
    "    # offset = 6.99\n",
    "    # subprocess.call()\n",
    "    if load:\n",
    "        p = subprocess.Popen([\"ffmpeg\",\"-y\",\"-i\",videoPath,\"-itsoffset\",f\"{offset}\",\"-i\",soundPath,\"-map\",\"0:0\",\"-map\",\"1:1\",\"-acodec\",\"copy\",\"-vcodec\",\"copy\",outPath], stdout=subprocess.PIPE, shell=True)\n",
    "        (output, err) = p.communicate()\n",
    "        p_status = p.wait()\n",
    "\n",
    "# EP = 8\n",
    "#for EP in range (30,41):\n",
    "    # doEP(EP)\n",
    "doEP(18,True,100)"
   ]
  },
  {
   "cell_type": "code",
   "execution_count": 30,
   "metadata": {},
   "outputs": [
    {
     "data": {
      "text/plain": [
       "[8, 9]"
      ]
     },
     "execution_count": 30,
     "metadata": {},
     "output_type": "execute_result"
    }
   ],
   "source": [
    "[x for x in range(8,10)]"
   ]
  },
  {
   "cell_type": "code",
   "execution_count": 25,
   "metadata": {},
   "outputs": [
    {
     "data": {
      "text/plain": [
       "\"b''\""
      ]
     },
     "execution_count": 25,
     "metadata": {},
     "output_type": "execute_result"
    }
   ],
   "source": []
  },
  {
   "cell_type": "code",
   "execution_count": 21,
   "metadata": {},
   "outputs": [
    {
     "name": "stdout",
     "output_type": "stream",
     "text": [
      "Hyper fast Audio and Video encoder\n",
      "usage: ffmpeg [options] [[infile options] -i infile]... {[outfile options] outfile}...\n",
      "\n",
      "Getting help:\n",
      "    -h      -- print basic options\n",
      "    -h long -- print more options\n",
      "    -h full -- print all options (including all format and codec specific options, very long)\n",
      "    -h type=name -- print all options for the named decoder/encoder/demuxer/muxer/filter/bsf/protocol\n",
      "    See man ffmpeg for detailed description of the options.\n",
      "\n",
      "Print help / information / capabilities:\n",
      "-L                  show license\n",
      "-h topic            show help\n",
      "-? topic            show help\n",
      "-help topic         show help\n",
      "--help topic        show help\n",
      "-version            show version\n",
      "-buildconf          show build configuration\n",
      "-formats            show available formats\n",
      "-muxers             show available muxers\n",
      "-demuxers           show available demuxers\n",
      "-devices            show available devices\n",
      "-codecs             show available codecs\n",
      "-decoders           show available decoders\n",
      "-encoders           show available encoders\n",
      "-bsfs               show available bit stream filters\n",
      "-protocols          show available protocols\n",
      "-filters            show available filters\n",
      "-pix_fmts           show available pixel formats\n",
      "-layouts            show standard channel layouts\n",
      "-sample_fmts        show available audio sample formats\n",
      "-dispositions       show available stream dispositions\n",
      "-colors             show available color names\n",
      "-sources device     list sources of the input device\n",
      "-sinks device       list sinks of the output device\n",
      "-hwaccels           show available HW acceleration methods\n",
      "\n",
      "Global options (affect whole program instead of just one file):\n",
      "-loglevel loglevel  set logging level\n",
      "-v loglevel         set logging level\n",
      "-report             generate a report\n",
      "-max_alloc bytes    set maximum size of a single allocated block\n",
      "-y                  overwrite output files\n",
      "-n                  never overwrite output files\n",
      "-ignore_unknown     Ignore unknown stream types\n",
      "-filter_threads     number of non-complex filter threads\n",
      "-filter_complex_threads  number of threads for -filter_complex\n",
      "-stats              print progress report during encoding\n",
      "-max_error_rate maximum error rate  ratio of decoding errors (0.0: no errors, 1.0: 100% errors) above which ffmpeg returns an error instead of success.\n",
      "\n",
      "Per-file main options:\n",
      "-f fmt              force format\n",
      "-c codec            codec name\n",
      "-codec codec        codec name\n",
      "-pre preset         preset name\n",
      "-map_metadata outfile[,metadata]:infile[,metadata]  set metadata information of outfile from infile\n",
      "-t duration         record or transcode \"duration\" seconds of audio/video\n",
      "-to time_stop       record or transcode stop time\n",
      "-fs limit_size      set the limit file size in bytes\n",
      "-ss time_off        set the start time offset\n",
      "-sseof time_off     set the start time offset relative to EOF\n",
      "-seek_timestamp     enable/disable seeking by timestamp with -ss\n",
      "-timestamp time     set the recording timestamp ('now' to set the current time)\n",
      "-metadata string=string  add metadata\n",
      "-program title=string:st=number...  add program with specified streams\n",
      "-target type        specify target file type (\"vcd\", \"svcd\", \"dvd\", \"dv\" or \"dv50\" with optional prefixes \"pal-\", \"ntsc-\" or \"film-\")\n",
      "-apad               audio pad\n",
      "-frames number      set the number of frames to output\n",
      "-filter filter_graph  set stream filtergraph\n",
      "-filter_script filename  read stream filtergraph description from a file\n",
      "-reinit_filter      reinit filtergraph on input parameter changes\n",
      "-discard            discard\n",
      "-disposition        disposition\n",
      "\n",
      "Video options:\n",
      "-vframes number     set the number of video frames to output\n",
      "-r rate             set frame rate (Hz value, fraction or abbreviation)\n",
      "-fpsmax rate        set max frame rate (Hz value, fraction or abbreviation)\n",
      "-s size             set frame size (WxH or abbreviation)\n",
      "-aspect aspect      set aspect ratio (4:3, 16:9 or 1.3333, 1.7777)\n",
      "-display_rotation angle  set pure counter-clockwise rotation in degrees for stream(s)\n",
      "-display_hflip      set display horizontal flip for stream(s) (overrides any display rotation if it is not set)\n",
      "-display_vflip      set display vertical flip for stream(s) (overrides any display rotation if it is not set)\n",
      "-vn                 disable video\n",
      "-vcodec codec       force video codec ('copy' to copy stream)\n",
      "-timecode hh:mm:ss[:;.]ff  set initial TimeCode value.\n",
      "-pass n             select the pass number (1 to 3)\n",
      "-vf filter_graph    set video filters\n",
      "-b bitrate          video bitrate (please use -b:v)\n",
      "-dn                 disable data\n",
      "\n",
      "Audio options:\n",
      "-aframes number     set the number of audio frames to output\n",
      "-aq quality         set audio quality (codec-specific)\n",
      "-ar rate            set audio sampling rate (in Hz)\n",
      "-ac channels        set number of audio channels\n",
      "-an                 disable audio\n",
      "-acodec codec       force audio codec ('copy' to copy stream)\n",
      "-ab bitrate         audio bitrate (please use -b:a)\n",
      "-af filter_graph    set audio filters\n",
      "\n",
      "Subtitle options:\n",
      "-s size             set frame size (WxH or abbreviation)\n",
      "-sn                 disable subtitle\n",
      "-scodec codec       force subtitle codec ('copy' to copy stream)\n",
      "-stag fourcc/tag    force subtitle tag/fourcc\n",
      "-fix_sub_duration   fix subtitles duration\n",
      "-canvas_size size   set canvas size (WxH or abbreviation)\n",
      "-spre preset        set the subtitle options to the indicated preset\n",
      "\n",
      "\n",
      "\n"
     ]
    }
   ],
   "source": [
    "print(output.decode())\n"
   ]
  },
  {
   "cell_type": "code",
   "execution_count": 41,
   "metadata": {},
   "outputs": [
    {
     "data": {
      "image/png": "[encoded data removed]",
      "text/plain": [
       "<Figure size 432x288 with 1 Axes>"
      ]
     },
     "metadata": {
      "needs_background": "light"
     },
     "output_type": "display_data"
    }
   ],
   "source": [
    "import matplotlib.pyplot as plt\n",
    "samplingRate = 22050\n",
    "start = samplingRate*3\n",
    "end = start + samplingRate\n",
    "\n",
    "plt.plot(y1[start:end]);\n",
    "\n",
    "plt.title('Signal');\n",
    "\n",
    "plt.xlabel('Time (samples)');\n",
    "\n",
    "plt.ylabel('Amplitude');"
   ]
  },
  {
   "cell_type": "code",
   "execution_count": 32,
   "metadata": {},
   "outputs": [
    {
     "data": {
      "image/png": "[encoded data removed]",
      "text/plain": [
       "<Figure size 432x288 with 1 Axes>"
      ]
     },
     "metadata": {
      "needs_background": "light"
     },
     "output_type": "display_data"
    }
   ],
   "source": [
    "plt.plot(y2);\n",
    "\n",
    "plt.title('Signal');\n",
    "\n",
    "plt.xlabel('Time (samples)');\n",
    "\n",
    "plt.ylabel('Amplitude');"
   ]
  },
  {
   "cell_type": "code",
   "execution_count": 68,
   "metadata": {},
   "outputs": [
    {
     "data": {
      "text/plain": [
       "6.99"
      ]
     },
     "execution_count": 68,
     "metadata": {},
     "output_type": "execute_result"
    },
    {
     "data": {
      "image/png": "[encoded data removed]",
      "text/plain": [
       "<Figure size 432x288 with 1 Axes>"
      ]
     },
     "metadata": {
      "needs_background": "light"
     },
     "output_type": "display_data"
    }
   ],
   "source": [
    "c = signal.correlate(y2, y1[sr2*0:sr2*3], mode='valid', method='fft')\n",
    "peak = np.argmax(c)\n",
    "offset = round(peak / sr2, 2)\n",
    "\n",
    "fig, ax = plt.subplots()\n",
    "ax.plot(c)\n",
    "\n",
    "offset"
   ]
  },
  {
   "cell_type": "code",
   "execution_count": 47,
   "metadata": {},
   "outputs": [
    {
     "data": {
      "text/plain": [
       "7.92"
      ]
     },
     "execution_count": 47,
     "metadata": {},
     "output_type": "execute_result"
    }
   ],
   "source": [
    "offset"
   ]
  },
  {
   "cell_type": "code",
   "execution_count": null,
   "metadata": {},
   "outputs": [],
   "source": []
  }
 ],
 "metadata": {
  "kernelspec": {
   "display_name": "Python 3.8.3 ('python38')",
   "language": "python",
   "name": "python3"
  },
  "language_info": {
   "codemirror_mode": {
    "name": "ipython",
    "version": 3
   },
   "file_extension": ".py",
   "mimetype": "text/x-python",
   "name": "python",
   "nbconvert_exporter": "python",
   "pygments_lexer": "ipython3",
   "version": "3.8.5"
  },
  "orig_nbformat": 4,
  "vscode": {
   "interpreter": {
    "hash": "0028ef0673f6020902bfc9c1e57b8b673d02f2bb25950a8a75c54d9687895602"
   }
  }
 },
 "nbformat": 4,
 "nbformat_minor": 2
}
